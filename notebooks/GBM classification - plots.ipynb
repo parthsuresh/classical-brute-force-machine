{
 "cells": [
  {
   "cell_type": "code",
   "execution_count": 1,
   "metadata": {},
   "outputs": [],
   "source": [
    "import os\n",
    "import pickle\n",
    "\n",
    "import xgboost as xgb\n",
    "import pandas as pd\n",
    "import xlsxwriter\n",
    "import numpy as np\n",
    "import matplotlib.pyplot as plt\n",
    "import shap"
   ]
  },
  {
   "cell_type": "markdown",
   "metadata": {},
   "source": [
    "# Enter Results Path in the next cell"
   ]
  },
  {
   "cell_type": "code",
   "execution_count": 2,
   "metadata": {},
   "outputs": [],
   "source": [
    "results_path = \"/home/parthsuresh/classical-brute-force-machine/results\""
   ]
  },
  {
   "cell_type": "code",
   "execution_count": 3,
   "metadata": {},
   "outputs": [],
   "source": [
    "model_path = f\"{results_path}/gbm_models/gbm_model.sav\"\n",
    "gbm_model = pickle.load(open(model_path, 'rb'))"
   ]
  },
  {
   "cell_type": "code",
   "execution_count": 4,
   "metadata": {},
   "outputs": [],
   "source": [
    "train_data = pd.read_csv(f'{results_path}/data/training-dataset-numeric.csv')\n",
    "validation_data = pd.read_csv(f'{results_path}/data/validation-dataset-numeric.csv')\n",
    "\n",
    "x_train = train_data[train_data.columns[:-1]]\n",
    "y_train = train_data[train_data.columns[-1]]\n",
    "\n",
    "x_valid = validation_data[validation_data.columns[:-1]]\n",
    "y_valid = validation_data[validation_data.columns[-1]]"
   ]
  },
  {
   "cell_type": "code",
   "execution_count": 5,
   "metadata": {},
   "outputs": [
    {
     "name": "stderr",
     "output_type": "stream",
     "text": [
      "Setting feature_perturbation = \"tree_path_dependent\" because no background data was given.\n",
      "The sklearn.ensemble.gradient_boosting module is  deprecated in version 0.22 and will be removed in version 0.24. The corresponding classes / functions should instead be imported from sklearn.ensemble. Anything that cannot be imported from sklearn.ensemble is now part of the private API.\n"
     ]
    }
   ],
   "source": [
    "gbm_explainer = shap.TreeExplainer(gbm_model)\n",
    "gbm_shap = gbm_explainer.shap_values(x_train)\n",
    "gbm_expected = gbm_explainer.expected_value\n",
    "gbm_shap_interaction = shap.TreeExplainer(gbm_model).shap_interaction_values(x_train)"
   ]
  },
  {
   "cell_type": "code",
   "execution_count": 6,
   "metadata": {},
   "outputs": [
    {
     "data": {
      "text/plain": [
       "(2354, 158)"
      ]
     },
     "execution_count": 6,
     "metadata": {},
     "output_type": "execute_result"
    }
   ],
   "source": [
    "gbm_shap.shape"
   ]
  },
  {
   "cell_type": "code",
   "execution_count": 7,
   "metadata": {},
   "outputs": [
    {
     "data": {
      "text/plain": [
       "Index(['L_posteriorcingulate_thickavg', 'R_inferiorparietal_thickavg',\n",
       "       'L_supramargil_thickavg', 'R_caudalanteriorcingulate_surfavg', 'Ramyg',\n",
       "       'L_lateralorbitofrontal_thickavg', 'Site_enigma',\n",
       "       'R_transversetemporal_surfavg', 'R_lingual_thickavg',\n",
       "       'R_posteriorcingulate_surfavg',\n",
       "       ...\n",
       "       'Lcaud', 'L_medialorbitofrontal_thickavg', 'L_postcentral_thickavg',\n",
       "       'R_bankssts_thickavg', 'L_caudalmiddlefrontal_surfavg',\n",
       "       'R_fusiform_thickavg', 'R_parsopercularis_surfavg', 'Tesla',\n",
       "       'R_medialorbitofrontal_thickavg', 'L_entorhil_surfavg'],\n",
       "      dtype='object', length=158)"
      ]
     },
     "execution_count": 7,
     "metadata": {},
     "output_type": "execute_result"
    }
   ],
   "source": [
    "x_train.columns"
   ]
  },
  {
   "cell_type": "markdown",
   "metadata": {},
   "source": [
    "# Interaction plots\n",
    "\n",
    "## Parameters\n",
    "\n",
    "<b>feature1, feature 2</b>: Features to be plotted in dependency plot. feature1 is x-axis, feature2 is y-axis <br>\n",
    "<b>save</b>: if True, saves image as png file and displays it. if False, image is displayed, but not saved. <b>Default : False</b><br> \n",
    "\n",
    "## Example\n",
    "\n",
    "shap_interaction_plot(feature1='Lcaud', feature2='Age', save=True)"
   ]
  },
  {
   "cell_type": "code",
   "execution_count": null,
   "metadata": {},
   "outputs": [],
   "source": [
    "def shap_interaction_plot(feature1: str, feature2: str, save: bool = False) -> None:\n",
    "    '''\n",
    "    feature1, feature 2: Features to be plotted in dependency plot. feature1 is x-axis, feature2 is y-axis\n",
    "    save: if True, saves image as png file and displays it. if False, image is displayed, but not saved. False by default\n",
    "    '''\n",
    "    if save == False:\n",
    "        shap.dependence_plot((feature1, feature2), \n",
    "                     gbm_shap_interaction, x_train)\n",
    "    else:\n",
    "        shap.dependence_plot((feature1, feature2), \n",
    "                     gbm_shap_interaction, x_train, show=False)\n",
    "        plt.tight_layout()\n",
    "        plt.savefig(f\"{results_path}/plots/{feature1}_{feature2}_interaction.png\", dpi=400)\n",
    "        plt.show()"
   ]
  },
  {
   "cell_type": "code",
   "execution_count": null,
   "metadata": {
    "scrolled": false
   },
   "outputs": [],
   "source": [
    "# Change values of feature1 and feature2\n",
    "\n",
    "shap_interaction_plot(feature1='Lcaud', feature2='Rcaud', save=True)"
   ]
  },
  {
   "cell_type": "markdown",
   "metadata": {},
   "source": [
    "# Auto-detected Interaction plots\n",
    "\n",
    "## Parameters\n",
    "\n",
    "<b>feature</b>: Feature to be plotted in dependency plot. feature is x-axis <br>\n",
    "<b>save</b>: if True, saves image as png file and displays it. if False, image is displayed, but not saved. <b>Default : False</b><br> \n",
    "\n",
    "## Example\n",
    "\n",
    "shap_auto_interaction_plot(feature1='Lcaud', save=True)"
   ]
  },
  {
   "cell_type": "code",
   "execution_count": null,
   "metadata": {},
   "outputs": [],
   "source": [
    "def shap_auto_interaction_plot(feature: str, save: bool = False) -> None:\n",
    "    '''\n",
    "    feature: Feature to be plotted in dependency plot. feature is x-axis\n",
    "    save: if True, saves image as png file and displays it. if False, image is displayed, but not saved. False by default\n",
    "    '''\n",
    "    shap.dependence_plot(feature, gbm_shap, \n",
    "                         x_train, show=False, feature_names = x_train.columns, interaction_index=\"auto\")\n",
    "    plt.tight_layout()\n",
    "    if save:\n",
    "        plt.savefig(f\"{results_path}/plots/{feature}_auto_interaction.png\", dpi=400)\n",
    "    plt.show()"
   ]
  },
  {
   "cell_type": "code",
   "execution_count": null,
   "metadata": {},
   "outputs": [],
   "source": [
    "shap_auto_interaction_plot('Lcaud', save=True)"
   ]
  },
  {
   "cell_type": "markdown",
   "metadata": {},
   "source": [
    "# Summary Bar Plot\n",
    "\n",
    "## Parameters\n",
    "\n",
    "<b>max_display</b>: Number of features to be shown <br>\n",
    "<b>save</b>: if True, saves image as png file and displays it. if False, image is displayed, but not saved. <b>Default : False</b><br>\n",
    "\n",
    "## Example\n",
    "\n",
    "shap_summary_bar_plot(max_display=15, save=True)"
   ]
  },
  {
   "cell_type": "code",
   "execution_count": null,
   "metadata": {},
   "outputs": [],
   "source": [
    "def shap_summary_bar_plot(max_display: int = 10, save: bool = False) -> None:\n",
    "    '''\n",
    "    max_display: Number of features to be shown. Default: 10\n",
    "    save: if True, saves image as png file and displays it. if False, image is displayed, but not saved. False by default\n",
    "    '''\n",
    "    if save == False:\n",
    "        shap.summary_plot(gbm_shap, x_train, plot_type=\"bar\", max_display=max_display)\n",
    "    else:\n",
    "        shap.summary_plot(gbm_shap, x_train, plot_type=\"bar\", max_display=max_display, show=False)\n",
    "        plt.tight_layout()\n",
    "        plt.savefig(f\"{results_path}/plots/summary.png\", dpi=400)\n",
    "        plt.show()"
   ]
  },
  {
   "cell_type": "code",
   "execution_count": null,
   "metadata": {},
   "outputs": [],
   "source": [
    "# Change max_display and save values\n",
    "\n",
    "shap_summary_bar_plot(max_display=15, save=True)"
   ]
  },
  {
   "cell_type": "markdown",
   "metadata": {},
   "source": [
    "# Summary Dot Plot\n",
    "\n",
    "## Parameters\n",
    "\n",
    "<b>max_display</b>: Number of features to be shown <br>\n",
    "<b>save</b>: if True, saves image as png file and displays it. if False, image is displayed, but not saved. <b>Default : False</b><br>\n",
    "\n",
    "## Example\n",
    "\n",
    "shap_summary_dot_plot(max_display=15, save=True)"
   ]
  },
  {
   "cell_type": "code",
   "execution_count": null,
   "metadata": {},
   "outputs": [],
   "source": [
    "def shap_summary_dot_plot(max_display: int = 10, save: bool = False) -> None:\n",
    "    '''\n",
    "    max_display: Number of features to be shown. Default: 10\n",
    "    save: if True, saves image as png file and displays it. if False, image is displayed, but not saved. False by default\n",
    "    '''\n",
    "    if save == False:\n",
    "        shap.summary_plot(gbm_shap, x_train, plot_type=\"dot\", max_display=max_display)\n",
    "    else:\n",
    "        shap.summary_plot(gbm_shap, x_train, plot_type=\"dot\", max_display=max_display, show=False)\n",
    "        plt.tight_layout()\n",
    "        plt.savefig(f\"{results_path}/plots/summary_dot.png\", dpi=400)\n",
    "        plt.show()"
   ]
  },
  {
   "cell_type": "code",
   "execution_count": null,
   "metadata": {
    "scrolled": true
   },
   "outputs": [],
   "source": [
    "shap_summary_dot_plot(max_display=15, save=True)"
   ]
  },
  {
   "cell_type": "markdown",
   "metadata": {},
   "source": [
    "# Embedding Plots"
   ]
  },
  {
   "cell_type": "code",
   "execution_count": null,
   "metadata": {},
   "outputs": [],
   "source": [
    "from sklearn.decomposition import PCA"
   ]
  },
  {
   "cell_type": "code",
   "execution_count": null,
   "metadata": {},
   "outputs": [],
   "source": [
    "np.random.seed(0)\n",
    "shap_pca = PCA(n_components=2).fit_transform(gbm_shap)\n",
    "raw_pca = PCA(n_components=2).fit_transform(x_train)"
   ]
  },
  {
   "cell_type": "markdown",
   "metadata": {},
   "source": [
    "# Shap Embedding Plot\n",
    "\n",
    "## Parameters\n",
    "\n",
    "<b>Feature</b>: Feature name <br>\n",
    "<b>save</b>: if True, saves image as png file and displays it. if False, image is displayed, but not saved. <b>Default : False</b><br>\n",
    "\n",
    "## Example\n",
    "\n",
    "shap_embedding_plot(feature='Lcaud', save=True)"
   ]
  },
  {
   "cell_type": "code",
   "execution_count": null,
   "metadata": {},
   "outputs": [],
   "source": [
    "def shap_embedding_plot(feature: str, save: bool = False) -> None:\n",
    "    def embedding_plot(embedding, values, label, alpha=1.0):\n",
    "        f = plt.figure(figsize=(10,5))\n",
    "        plt.scatter(embedding[:,0],\n",
    "                   embedding[:,1],\n",
    "                   c=values,\n",
    "                   linewidth=0, alpha=alpha, cmap=shap.plots.colors.red_blue)\n",
    "        cb = plt.colorbar(label=label, aspect=40, orientation=\"horizontal\")\n",
    "        cb.set_alpha(1)\n",
    "        cb.draw_all()\n",
    "        cb.outline.set_linewidth(0)\n",
    "        cb.ax.tick_params('x', length=0)\n",
    "        cb.ax.xaxis.set_label_position('top')\n",
    "        plt.gca().axis(\"off\")\n",
    "    columns_list = x_train.columns.tolist()\n",
    "    embedding_plot(shap_pca, gbm_shap[:,columns_list.index(feature)], feature)\n",
    "    if save:\n",
    "        plt.savefig(f\"{results_path}/plots/{feature}_embedding.png\", dpi=400)\n",
    "    plt.show()"
   ]
  },
  {
   "cell_type": "code",
   "execution_count": null,
   "metadata": {},
   "outputs": [],
   "source": [
    "shap_embedding_plot(feature='Age', save='True')"
   ]
  },
  {
   "cell_type": "markdown",
   "metadata": {},
   "source": [
    "# HeatMap\n",
    "\n",
    "\n",
    "## Parameters\n",
    "\n",
    "<b>max_display</b>: Number of features to be shown <br>\n",
    "<b>save</b>: if True, saves image as png file and displays it. if False, image is displayed, but not saved. <b>Default : False</b><br>\n",
    "\n",
    "## Example\n",
    "\n",
    "shap_heatmap(max_display=15, save=True)"
   ]
  },
  {
   "cell_type": "code",
   "execution_count": null,
   "metadata": {},
   "outputs": [],
   "source": [
    "import scipy\n",
    "from scipy.spatial.distance import pdist\n",
    "\n",
    "def shap_heatmap(max_display: int=15, save=False):\n",
    "\n",
    "    def hclust_order(X, metric=\"sqeuclidean\"):\n",
    "        \"\"\" A leaf ordering is under-defined, this picks the ordering that keeps nearby samples similar.\n",
    "        \"\"\"\n",
    "\n",
    "        # compute a hierarchical clustering\n",
    "        D = scipy.spatial.distance.pdist(X, metric)\n",
    "        cluster_matrix = scipy.cluster.hierarchy.complete(D)\n",
    "\n",
    "        # merge clusters, rotating them to make the end points match as best we can\n",
    "        sets = [[i] for i in range(X.shape[0])]\n",
    "        for i in range(cluster_matrix.shape[0]):\n",
    "            s1 = sets[int(cluster_matrix[i,0])]\n",
    "            s2 = sets[int(cluster_matrix[i,1])]\n",
    "\n",
    "            # compute distances between the end points of the lists\n",
    "            d_s1_s2 = pdist(np.vstack([X[s1[-1],:], X[s2[0],:]]), metric)[0]\n",
    "            d_s2_s1 = pdist(np.vstack([X[s1[0],:], X[s2[-1],:]]), metric)[0]\n",
    "            d_s1r_s2 = pdist(np.vstack([X[s1[0],:], X[s2[0],:]]), metric)[0]\n",
    "            d_s1_s2r = pdist(np.vstack([X[s1[-1],:], X[s2[-1],:]]), metric)[0]\n",
    "\n",
    "            # concatenete the lists in the way the minimizes the difference between\n",
    "            # the samples at the junction\n",
    "            best = min(d_s1_s2, d_s2_s1, d_s1r_s2, d_s1_s2r)\n",
    "            if best == d_s1_s2:\n",
    "                sets.append(s1 + s2)\n",
    "            elif best == d_s2_s1:\n",
    "                sets.append(s2 + s1)\n",
    "            elif best == d_s1r_s2:\n",
    "                sets.append(list(reversed(s1)) + s2)\n",
    "            else:\n",
    "                sets.append(s1 + list(reversed(s2)))\n",
    "\n",
    "        return sets[-1]\n",
    "\n",
    "\n",
    "    clustOrder = hclust_order(gbm_shap)\n",
    "\n",
    "    col_inds = np.argsort(-np.abs(gbm_shap).mean(0))[:max_display]\n",
    "\n",
    "    gbm_shap_normed = gbm_shap.copy()\n",
    "    for i in col_inds:\n",
    "        gbm_shap_normed[:,i] -= gbm_shap_normed[:,i].min()\n",
    "        gbm_shap_normed[:,i] /= gbm_shap_normed[:,i].max()\n",
    "\n",
    "    f = plt.figure(figsize=(15,5))\n",
    "    total = gbm_shap[clustOrder,:].sum(1)\n",
    "    total -= total.min()\n",
    "    total /= total.max()\n",
    "    plt.imshow(np.vstack([total, gbm_shap_normed[clustOrder,:][:,col_inds].T]), aspect=400, cmap=shap.plots.colors.red_blue)\n",
    "    plt.yticks(np.arange(len(col_inds)+1))\n",
    "    plt.gca().set_yticklabels([\"Log hazard ratio\"] + list(np.array(x_train.columns)[col_inds]))\n",
    "    plt.gca().spines['right'].set_visible(False)\n",
    "    plt.gca().spines['left'].set_visible(False)\n",
    "    plt.gca().spines['top'].set_visible(False)\n",
    "    plt.gca().spines['bottom'].set_visible(False)\n",
    "    plt.xlabel(\"Individuals ordered by the leaf order of a hierarchical clustering\")\n",
    "    if save:\n",
    "        plt.savefig(f\"{results_path}/plots/heatmap.png\", dpi=400)\n",
    "    plt.show()"
   ]
  },
  {
   "cell_type": "code",
   "execution_count": null,
   "metadata": {},
   "outputs": [],
   "source": [
    "shap_heatmap(max_display=10, save=True)"
   ]
  },
  {
   "cell_type": "markdown",
   "metadata": {},
   "source": [
    "# Force Plot\n",
    "\n",
    "\n",
    "## Parameters\n",
    "\n",
    "<b>data_index</b>: Index of data point <br>\n",
    "<b>save</b>: if True, saves image as png file and displays it. if False, image is displayed, but not saved. <b>Default : False</b><br>\n",
    "\n",
    "## Example\n",
    "\n",
    "shap_force_plot(data_index=15, save=True)"
   ]
  },
  {
   "cell_type": "code",
   "execution_count": null,
   "metadata": {},
   "outputs": [],
   "source": [
    "def shap_force_plot(data_index: int = 0, save: bool = False) -> None:\n",
    "    '''\n",
    "    data_index: Index of data point. Default: 0\n",
    "    save: if True, saves image as png file and displays it. if False, image is displayed, but not saved. False by default\n",
    "    '''\n",
    "    if save == False:\n",
    "        shap.force_plot(gbm_expected, gbm_shap[data_index,:], x_train.iloc[data_index,:], matplotlib=True)\n",
    "    else:\n",
    "        shap.force_plot(gbm_expected, gbm_shap[data_index,:], x_train.iloc[data_index,:], matplotlib=True, show=False)\n",
    "#         plt.figure(figsize=(5, 5))\n",
    "#         #plt.tight_layout()\n",
    "#         plt.savefig(f\"{results_path}/plots/summary_dot_{data_index}.png\")\n",
    "        plt.savefig(f\"{results_path}/plots/summary_dot_{data_index}.png\",dpi=150, bbox_inches='tight')\n",
    "        plt.show()"
   ]
  },
  {
   "cell_type": "code",
   "execution_count": null,
   "metadata": {},
   "outputs": [],
   "source": [
    "shap_force_plot(data_index=2, save=True)"
   ]
  },
  {
   "cell_type": "markdown",
   "metadata": {},
   "source": [
    "# Decision Plot\n",
    "\n",
    "\n",
    "## Parameters\n",
    "\n",
    "<b>num_points</b>: first n points to be selected from test set to make decision plot <br>\n",
    "<b>save</b>: if True, saves image as png file and displays it. if False, image is displayed, but not saved. <b>Default : False</b><br>\n",
    "\n",
    "## Example\n",
    "\n",
    "shap_decision_plot(num_points=10, save=True)"
   ]
  },
  {
   "cell_type": "code",
   "execution_count": 8,
   "metadata": {},
   "outputs": [],
   "source": [
    "def shap_decision_plot(num_points: int = 10, save: bool = False) -> None:\n",
    "    '''\n",
    "    data_index: Index of data point. Default: 0\n",
    "    save: if True, saves image as png file and displays it. if False, image is displayed, but not saved. False by default\n",
    "    '''\n",
    "    select = range(num_points)\n",
    "    features = x_valid.iloc[select]\n",
    "    features_display = x_valid.loc[features.index]\n",
    "    \n",
    "    shap_values = gbm_explainer.shap_values(features)\n",
    "    shap_interaction_values = gbm_explainer.shap_interaction_values(features)\n",
    "    shap_interaction_values = shap_interaction_values\n",
    "    expected_value = gbm_explainer.expected_value\n",
    "\n",
    "    if save == False:\n",
    "        shap.decision_plot(expected_value, shap_values, features_display)\n",
    "    else:\n",
    "        shap.decision_plot(expected_value, shap_values, features_display, show=False)\n",
    "#         plt.figure(figsize=(5, 5))\n",
    "#         #plt.tight_layout()\n",
    "#         plt.savefig(f\"{results_path}/plots/summary_dot_{data_index}.png\")\n",
    "        plt.savefig(f\"{results_path}/plots/decision_{num_points}.png\",dpi=150, bbox_inches='tight')\n",
    "        plt.show()"
   ]
  },
  {
   "cell_type": "code",
   "execution_count": 9,
   "metadata": {},
   "outputs": [
    {
     "data": {
      "image/png": "[encoded data removed]",
      "text/plain": [
       "<Figure size 576x684 with 1 Axes>"
      ]
     },
     "metadata": {
      "needs_background": "light"
     },
     "output_type": "display_data"
    }
   ],
   "source": [
    "shap_decision_plot(num_points=10, save=True)"
   ]
  },
  {
   "cell_type": "code",
   "execution_count": null,
   "metadata": {},
   "outputs": [],
   "source": []
  }
 ],
 "metadata": {
  "kernelspec": {
   "display_name": "Python 3",
   "language": "python",
   "name": "python3"
  },
  "language_info": {
   "codemirror_mode": {
    "name": "ipython",
    "version": 3
   },
   "file_extension": ".py",
   "mimetype": "text/x-python",
   "name": "python",
   "nbconvert_exporter": "python",
   "pygments_lexer": "ipython3",
   "version": "3.8.3"
  }
 },
 "nbformat": 4,
 "nbformat_minor": 4
}
